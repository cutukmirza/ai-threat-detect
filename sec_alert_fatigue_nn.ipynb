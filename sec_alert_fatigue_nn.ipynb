{
 "metadata": {
  "language_info": {
   "codemirror_mode": {
    "name": "ipython",
    "version": 3
   },
   "file_extension": ".py",
   "mimetype": "text/x-python",
   "name": "python",
   "nbconvert_exporter": "python",
   "pygments_lexer": "ipython3",
   "version": "3.8.5"
  },
  "orig_nbformat": 2,
  "kernelspec": {
   "name": "python385jvsc74a57bd0aee8b7b246df8f9039afb4144a1f6fd8d2ca17a180786b69acc140d282b71a49",
   "display_name": "Python 3.8.5 64-bit"
  },
  "metadata": {
   "interpreter": {
    "hash": "aee8b7b246df8f9039afb4144a1f6fd8d2ca17a180786b69acc140d282b71a49"
   }
  }
 },
 "nbformat": 4,
 "nbformat_minor": 2,
 "cells": [
  {
   "cell_type": "code",
   "execution_count": 2,
   "metadata": {},
   "outputs": [],
   "source": [
    "import pandas\n",
    "from tensorflow.keras.models import Sequential\n",
    "from keras.layers import Dense\n",
    "from keras.wrappers.scikit_learn import KerasClassifier\n",
    "from keras.utils import np_utils\n",
    "from sklearn.model_selection import cross_val_score\n",
    "from sklearn.model_selection import KFold\n",
    "from sklearn.preprocessing import LabelEncoder\n",
    "from sklearn.pipeline import Pipeline\n",
    "from keras import backend as K"
   ]
  },
  {
   "cell_type": "code",
   "execution_count": 3,
   "metadata": {},
   "outputs": [
    {
     "output_type": "execute_result",
     "data": {
      "text/plain": [
       "'Normal'"
      ]
     },
     "metadata": {},
     "execution_count": 3
    }
   ],
   "source": [
    "# load dataset\n",
    "dataframe = pandas.read_csv(\"unsw-nb15/test2000.csv\", header=None)\n",
    "dataset = dataframe.values\n",
    "X = dataset[:,0:39].astype(float)\n",
    "Y = dataset[:,39]\n",
    "Y[0]"
   ]
  },
  {
   "cell_type": "code",
   "execution_count": 4,
   "metadata": {},
   "outputs": [
    {
     "output_type": "stream",
     "name": "stdout",
     "text": [
      "5\n"
     ]
    },
    {
     "output_type": "execute_result",
     "data": {
      "text/plain": [
       "['Analysis',\n",
       " 'Backdoor',\n",
       " 'DoS',\n",
       " 'Exploits',\n",
       " 'Fuzzers',\n",
       " 'Normal',\n",
       " 'Reconnaissance',\n",
       " 'Shellcode',\n",
       " 'Worms']"
      ]
     },
     "metadata": {},
     "execution_count": 4
    }
   ],
   "source": [
    "# encode class values as integers\n",
    "encoder = LabelEncoder()\n",
    "encoder.fit(Y)\n",
    "encoded_Y = encoder.transform(Y)\n",
    "print(encoded_Y[0])\n",
    "# convert integers to dummy variables (i.e. one hot encoded)\n",
    "dummy_y = np_utils.to_categorical(encoded_Y)\n",
    "\n",
    "class_list = list(encoder.classes_)\n",
    "ind_list = list(encoder.transform(class_list))\n",
    "class_list"
   ]
  },
  {
   "cell_type": "code",
   "execution_count": 5,
   "metadata": {},
   "outputs": [],
   "source": [
    "# define baseline model\n",
    "def baseline_model():\n",
    "\t# create model\n",
    "\tmodel = Sequential()\n",
    "\tmodel.add(Dense(20, input_dim=39, activation='relu'))\n",
    "\t#model.add(Dense(10, activation='relu'))\n",
    "\t# model.add(Dense(22, activation='relu'))\n",
    "\tmodel.add(Dense(9, activation='softmax'))\n",
    "\t# Compile model\n",
    "\tmodel.compile(loss='binary_crossentropy', optimizer='adam', metrics=['accuracy'])\n",
    "\t# set learning rate\t\n",
    "\tK.set_value(model.optimizer.learning_rate, 0.01)\n",
    "\treturn model"
   ]
  },
  {
   "cell_type": "code",
   "execution_count": 18,
   "metadata": {
    "tags": []
   },
   "outputs": [
    {
     "output_type": "stream",
     "name": "stdout",
     "text": [
      "Baseline: 42.30% (5.14%)\n"
     ]
    }
   ],
   "source": [
    "estimator = KerasClassifier(build_fn=baseline_model, epochs=100, batch_size=500, verbose=0)\n",
    "kfold = KFold(n_splits=10, shuffle=True)\n",
    "results = cross_val_score(estimator, X, dummy_y, cv=kfold)\n",
    "print(\"Baseline: %.2f%% (%.2f%%)\" % (results.mean()*100, results.std()*100))"
   ]
  },
  {
   "cell_type": "code",
   "execution_count": 21,
   "metadata": {},
   "outputs": [
    {
     "output_type": "execute_result",
     "data": {
      "text/plain": [
       "<tensorflow.python.keras.callbacks.History at 0x7f85ca1ec880>"
      ]
     },
     "metadata": {},
     "execution_count": 21
    }
   ],
   "source": [
    "estimator.fit(X, dummy_y, epochs=100, batch_size=500, verbose=0)\n"
   ]
  },
  {
   "cell_type": "code",
   "execution_count": 52,
   "metadata": {},
   "outputs": [
    {
     "output_type": "stream",
     "name": "stdout",
     "text": [
      "[1.21478000e-01 6.00000000e+00 4.00000000e+00 2.58000000e+02\n 1.72000000e+02 7.40874900e+01 2.52000000e+02 2.54000000e+02\n 1.41589424e+04 8.49536523e+03 0.00000000e+00 0.00000000e+00\n 2.42956000e+01 8.37500000e+00 3.01775470e+01 1.18306040e+01\n 2.55000000e+02 6.21772692e+08 2.20253363e+09 2.55000000e+02\n 0.00000000e+00 0.00000000e+00 0.00000000e+00 4.30000000e+01\n 4.30000000e+01 0.00000000e+00 0.00000000e+00 1.00000000e+00\n 0.00000000e+00 1.00000000e+00 1.00000000e+00 1.00000000e+00\n 1.00000000e+00 0.00000000e+00 0.00000000e+00 0.00000000e+00\n 1.00000000e+00 1.00000000e+00 0.00000000e+00 5.00000000e+00]\n"
     ]
    }
   ],
   "source": [
    "dataframe_test = pandas.read_csv(\"unsw-nb15/multi_test.csv\", header=None)\n",
    "dataset_test = dataframe_test.values\n",
    "print(dataset_test[0])\n"
   ]
  },
  {
   "cell_type": "code",
   "execution_count": 53,
   "metadata": {},
   "outputs": [
    {
     "output_type": "execute_result",
     "data": {
      "text/plain": [
       "5"
      ]
     },
     "metadata": {},
     "execution_count": 53
    }
   ],
   "source": [
    "X_test = dataset_test[:,0:39].astype(float)\n",
    "Y_test = dataset_test[:,39].astype(int)\n",
    "Y_test[0]"
   ]
  },
  {
   "cell_type": "code",
   "execution_count": 57,
   "metadata": {},
   "outputs": [
    {
     "output_type": "stream",
     "name": "stderr",
     "text": [
      "/Users/mirzacutuk/opt/anaconda3/lib/python3.8/site-packages/tensorflow/python/keras/engine/sequential.py:455: UserWarning: `model.predict_classes()` is deprecated and will be removed after 2021-01-01. Please use instead:* `np.argmax(model.predict(x), axis=-1)`,   if your model does multi-class classification   (e.g. if it uses a `softmax` last-layer activation).* `(model.predict(x) > 0.5).astype(\"int32\")`,   if your model does binary classification   (e.g. if it uses a `sigmoid` last-layer activation).\n",
      "  warnings.warn('`model.predict_classes()` is deprecated and '\n",
      "1\n",
      "False Positive Rate: 0.3258393644384371\n",
      "Miss Rate: 0.2004037846253871\n",
      "Accuracy: 0.4737568509361758\n"
     ]
    }
   ],
   "source": [
    "y_pred_keras = (estimator.predict(X_test) > 0.5).astype(\"int32\").ravel()\n",
    "counter = 0\n",
    "counter_acc = 0\n",
    "counter_miss = 0\n",
    "print(y_pred_keras[0])\n",
    "for i in range(len(y_pred_keras)):\n",
    "    if (y_pred_keras[i] != 5 & Y_test[i] == 5):\n",
    "        counter += 1\n",
    "    if (y_pred_keras[i] == 5 & Y_test[i] != 5):\n",
    "        counter_miss += 1\n",
    "    if (y_pred_keras[i] == Y_test[i]):\n",
    "        counter_acc += 1\n",
    "    \n",
    "fpr = counter/len(y_pred_keras)\n",
    "miss = counter_miss/len(y_pred_keras)\n",
    "print(\"False Positive Rate: \" + str(fpr))\n",
    "print(\"Miss Rate: \" + str(miss))\n",
    "print(\"Accuracy: \" + str(1 - miss - fpr))"
   ]
  },
  {
   "cell_type": "code",
   "execution_count": null,
   "metadata": {},
   "outputs": [],
   "source": []
  }
 ]
}